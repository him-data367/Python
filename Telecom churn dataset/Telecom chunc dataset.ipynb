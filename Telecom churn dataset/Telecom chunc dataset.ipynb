{
 "cells": [
  {
   "cell_type": "markdown",
   "metadata": {},
   "source": [
    "# Business Understanding of A Telecom Industry"
   ]
  },
  {
   "cell_type": "markdown",
   "metadata": {},
   "source": [
    "Customer chrun is a big problem in any industry and one of the most important for the telecom industry"
   ]
  },
  {
   "cell_type": "code",
   "execution_count": 1,
   "metadata": {},
   "outputs": [],
   "source": [
    "import pandas as pd\n",
    "import matplotlib.pyplot as plt\n",
    "import seaborn as sns\n",
    "# it is used to show the graph without the plt.show()"
   ]
  },
  {
   "cell_type": "code",
   "execution_count": 2,
   "metadata": {},
   "outputs": [
    {
     "data": {
      "text/html": [
       "<div>\n",
       "<style scoped>\n",
       "    .dataframe tbody tr th:only-of-type {\n",
       "        vertical-align: middle;\n",
       "    }\n",
       "\n",
       "    .dataframe tbody tr th {\n",
       "        vertical-align: top;\n",
       "    }\n",
       "\n",
       "    .dataframe thead th {\n",
       "        text-align: right;\n",
       "    }\n",
       "</style>\n",
       "<table border=\"1\" class=\"dataframe\">\n",
       "  <thead>\n",
       "    <tr style=\"text-align: right;\">\n",
       "      <th></th>\n",
       "      <th>State</th>\n",
       "      <th>Account length</th>\n",
       "      <th>Area code</th>\n",
       "      <th>International plan</th>\n",
       "      <th>Voice mail plan</th>\n",
       "      <th>Number vmail messages</th>\n",
       "      <th>Total day minutes</th>\n",
       "      <th>Total day calls</th>\n",
       "      <th>Total day charge</th>\n",
       "      <th>Total eve minutes</th>\n",
       "      <th>Total eve calls</th>\n",
       "      <th>Total eve charge</th>\n",
       "      <th>Total night minutes</th>\n",
       "      <th>Total night calls</th>\n",
       "      <th>Total night charge</th>\n",
       "      <th>Total intl minutes</th>\n",
       "      <th>Total intl calls</th>\n",
       "      <th>Total intl charge</th>\n",
       "      <th>Customer service calls</th>\n",
       "      <th>Churn</th>\n",
       "    </tr>\n",
       "  </thead>\n",
       "  <tbody>\n",
       "    <tr>\n",
       "      <th>0</th>\n",
       "      <td>KS</td>\n",
       "      <td>128</td>\n",
       "      <td>415</td>\n",
       "      <td>No</td>\n",
       "      <td>Yes</td>\n",
       "      <td>25</td>\n",
       "      <td>265.1</td>\n",
       "      <td>110</td>\n",
       "      <td>45.07</td>\n",
       "      <td>197.4</td>\n",
       "      <td>99</td>\n",
       "      <td>16.78</td>\n",
       "      <td>244.7</td>\n",
       "      <td>91</td>\n",
       "      <td>11.01</td>\n",
       "      <td>10.0</td>\n",
       "      <td>3</td>\n",
       "      <td>2.70</td>\n",
       "      <td>1</td>\n",
       "      <td>False</td>\n",
       "    </tr>\n",
       "    <tr>\n",
       "      <th>1</th>\n",
       "      <td>OH</td>\n",
       "      <td>107</td>\n",
       "      <td>415</td>\n",
       "      <td>No</td>\n",
       "      <td>Yes</td>\n",
       "      <td>26</td>\n",
       "      <td>161.6</td>\n",
       "      <td>123</td>\n",
       "      <td>27.47</td>\n",
       "      <td>195.5</td>\n",
       "      <td>103</td>\n",
       "      <td>16.62</td>\n",
       "      <td>254.4</td>\n",
       "      <td>103</td>\n",
       "      <td>11.45</td>\n",
       "      <td>13.7</td>\n",
       "      <td>3</td>\n",
       "      <td>3.70</td>\n",
       "      <td>1</td>\n",
       "      <td>False</td>\n",
       "    </tr>\n",
       "    <tr>\n",
       "      <th>2</th>\n",
       "      <td>NJ</td>\n",
       "      <td>137</td>\n",
       "      <td>415</td>\n",
       "      <td>No</td>\n",
       "      <td>No</td>\n",
       "      <td>0</td>\n",
       "      <td>243.4</td>\n",
       "      <td>114</td>\n",
       "      <td>41.38</td>\n",
       "      <td>121.2</td>\n",
       "      <td>110</td>\n",
       "      <td>10.30</td>\n",
       "      <td>162.6</td>\n",
       "      <td>104</td>\n",
       "      <td>7.32</td>\n",
       "      <td>12.2</td>\n",
       "      <td>5</td>\n",
       "      <td>3.29</td>\n",
       "      <td>0</td>\n",
       "      <td>False</td>\n",
       "    </tr>\n",
       "    <tr>\n",
       "      <th>3</th>\n",
       "      <td>OH</td>\n",
       "      <td>84</td>\n",
       "      <td>408</td>\n",
       "      <td>Yes</td>\n",
       "      <td>No</td>\n",
       "      <td>0</td>\n",
       "      <td>299.4</td>\n",
       "      <td>71</td>\n",
       "      <td>50.90</td>\n",
       "      <td>61.9</td>\n",
       "      <td>88</td>\n",
       "      <td>5.26</td>\n",
       "      <td>196.9</td>\n",
       "      <td>89</td>\n",
       "      <td>8.86</td>\n",
       "      <td>6.6</td>\n",
       "      <td>7</td>\n",
       "      <td>1.78</td>\n",
       "      <td>2</td>\n",
       "      <td>False</td>\n",
       "    </tr>\n",
       "    <tr>\n",
       "      <th>4</th>\n",
       "      <td>OK</td>\n",
       "      <td>75</td>\n",
       "      <td>415</td>\n",
       "      <td>Yes</td>\n",
       "      <td>No</td>\n",
       "      <td>0</td>\n",
       "      <td>166.7</td>\n",
       "      <td>113</td>\n",
       "      <td>28.34</td>\n",
       "      <td>148.3</td>\n",
       "      <td>122</td>\n",
       "      <td>12.61</td>\n",
       "      <td>186.9</td>\n",
       "      <td>121</td>\n",
       "      <td>8.41</td>\n",
       "      <td>10.1</td>\n",
       "      <td>3</td>\n",
       "      <td>2.73</td>\n",
       "      <td>3</td>\n",
       "      <td>False</td>\n",
       "    </tr>\n",
       "  </tbody>\n",
       "</table>\n",
       "</div>"
      ],
      "text/plain": [
       "  State  Account length  Area code International plan Voice mail plan  \\\n",
       "0    KS             128        415                 No             Yes   \n",
       "1    OH             107        415                 No             Yes   \n",
       "2    NJ             137        415                 No              No   \n",
       "3    OH              84        408                Yes              No   \n",
       "4    OK              75        415                Yes              No   \n",
       "\n",
       "   Number vmail messages  Total day minutes  Total day calls  \\\n",
       "0                     25              265.1              110   \n",
       "1                     26              161.6              123   \n",
       "2                      0              243.4              114   \n",
       "3                      0              299.4               71   \n",
       "4                      0              166.7              113   \n",
       "\n",
       "   Total day charge  Total eve minutes  Total eve calls  Total eve charge  \\\n",
       "0             45.07              197.4               99             16.78   \n",
       "1             27.47              195.5              103             16.62   \n",
       "2             41.38              121.2              110             10.30   \n",
       "3             50.90               61.9               88              5.26   \n",
       "4             28.34              148.3              122             12.61   \n",
       "\n",
       "   Total night minutes  Total night calls  Total night charge  \\\n",
       "0                244.7                 91               11.01   \n",
       "1                254.4                103               11.45   \n",
       "2                162.6                104                7.32   \n",
       "3                196.9                 89                8.86   \n",
       "4                186.9                121                8.41   \n",
       "\n",
       "   Total intl minutes  Total intl calls  Total intl charge  \\\n",
       "0                10.0                 3               2.70   \n",
       "1                13.7                 3               3.70   \n",
       "2                12.2                 5               3.29   \n",
       "3                 6.6                 7               1.78   \n",
       "4                10.1                 3               2.73   \n",
       "\n",
       "   Customer service calls  Churn  \n",
       "0                       1  False  \n",
       "1                       1  False  \n",
       "2                       0  False  \n",
       "3                       2  False  \n",
       "4                       3  False  "
      ]
     },
     "execution_count": 2,
     "metadata": {},
     "output_type": "execute_result"
    }
   ],
   "source": [
    "# import the fil using the raed_csv method\n",
    "data=pd.read_csv('D:/libraries/churn-bigml-80.csv')\n",
    "data.head()"
   ]
  },
  {
   "cell_type": "code",
   "execution_count": 3,
   "metadata": {},
   "outputs": [
    {
     "data": {
      "text/html": [
       "<div>\n",
       "<style scoped>\n",
       "    .dataframe tbody tr th:only-of-type {\n",
       "        vertical-align: middle;\n",
       "    }\n",
       "\n",
       "    .dataframe tbody tr th {\n",
       "        vertical-align: top;\n",
       "    }\n",
       "\n",
       "    .dataframe thead th {\n",
       "        text-align: right;\n",
       "    }\n",
       "</style>\n",
       "<table border=\"1\" class=\"dataframe\">\n",
       "  <thead>\n",
       "    <tr style=\"text-align: right;\">\n",
       "      <th></th>\n",
       "      <th>State</th>\n",
       "      <th>Account length</th>\n",
       "      <th>Area code</th>\n",
       "      <th>International plan</th>\n",
       "      <th>Voice mail plan</th>\n",
       "      <th>Number vmail messages</th>\n",
       "      <th>Total day minutes</th>\n",
       "      <th>Total day calls</th>\n",
       "      <th>Total day charge</th>\n",
       "      <th>Total eve minutes</th>\n",
       "      <th>Total eve calls</th>\n",
       "      <th>Total eve charge</th>\n",
       "      <th>Total night minutes</th>\n",
       "      <th>Total night calls</th>\n",
       "      <th>Total night charge</th>\n",
       "      <th>Total intl minutes</th>\n",
       "      <th>Total intl calls</th>\n",
       "      <th>Total intl charge</th>\n",
       "      <th>Customer service calls</th>\n",
       "      <th>Churn</th>\n",
       "    </tr>\n",
       "  </thead>\n",
       "  <tbody>\n",
       "    <tr>\n",
       "      <th>2661</th>\n",
       "      <td>SC</td>\n",
       "      <td>79</td>\n",
       "      <td>415</td>\n",
       "      <td>No</td>\n",
       "      <td>No</td>\n",
       "      <td>0</td>\n",
       "      <td>134.7</td>\n",
       "      <td>98</td>\n",
       "      <td>22.90</td>\n",
       "      <td>189.7</td>\n",
       "      <td>68</td>\n",
       "      <td>16.12</td>\n",
       "      <td>221.4</td>\n",
       "      <td>128</td>\n",
       "      <td>9.96</td>\n",
       "      <td>11.8</td>\n",
       "      <td>5</td>\n",
       "      <td>3.19</td>\n",
       "      <td>2</td>\n",
       "      <td>False</td>\n",
       "    </tr>\n",
       "    <tr>\n",
       "      <th>2662</th>\n",
       "      <td>AZ</td>\n",
       "      <td>192</td>\n",
       "      <td>415</td>\n",
       "      <td>No</td>\n",
       "      <td>Yes</td>\n",
       "      <td>36</td>\n",
       "      <td>156.2</td>\n",
       "      <td>77</td>\n",
       "      <td>26.55</td>\n",
       "      <td>215.5</td>\n",
       "      <td>126</td>\n",
       "      <td>18.32</td>\n",
       "      <td>279.1</td>\n",
       "      <td>83</td>\n",
       "      <td>12.56</td>\n",
       "      <td>9.9</td>\n",
       "      <td>6</td>\n",
       "      <td>2.67</td>\n",
       "      <td>2</td>\n",
       "      <td>False</td>\n",
       "    </tr>\n",
       "    <tr>\n",
       "      <th>2663</th>\n",
       "      <td>WV</td>\n",
       "      <td>68</td>\n",
       "      <td>415</td>\n",
       "      <td>No</td>\n",
       "      <td>No</td>\n",
       "      <td>0</td>\n",
       "      <td>231.1</td>\n",
       "      <td>57</td>\n",
       "      <td>39.29</td>\n",
       "      <td>153.4</td>\n",
       "      <td>55</td>\n",
       "      <td>13.04</td>\n",
       "      <td>191.3</td>\n",
       "      <td>123</td>\n",
       "      <td>8.61</td>\n",
       "      <td>9.6</td>\n",
       "      <td>4</td>\n",
       "      <td>2.59</td>\n",
       "      <td>3</td>\n",
       "      <td>False</td>\n",
       "    </tr>\n",
       "    <tr>\n",
       "      <th>2664</th>\n",
       "      <td>RI</td>\n",
       "      <td>28</td>\n",
       "      <td>510</td>\n",
       "      <td>No</td>\n",
       "      <td>No</td>\n",
       "      <td>0</td>\n",
       "      <td>180.8</td>\n",
       "      <td>109</td>\n",
       "      <td>30.74</td>\n",
       "      <td>288.8</td>\n",
       "      <td>58</td>\n",
       "      <td>24.55</td>\n",
       "      <td>191.9</td>\n",
       "      <td>91</td>\n",
       "      <td>8.64</td>\n",
       "      <td>14.1</td>\n",
       "      <td>6</td>\n",
       "      <td>3.81</td>\n",
       "      <td>2</td>\n",
       "      <td>False</td>\n",
       "    </tr>\n",
       "    <tr>\n",
       "      <th>2665</th>\n",
       "      <td>TN</td>\n",
       "      <td>74</td>\n",
       "      <td>415</td>\n",
       "      <td>No</td>\n",
       "      <td>Yes</td>\n",
       "      <td>25</td>\n",
       "      <td>234.4</td>\n",
       "      <td>113</td>\n",
       "      <td>39.85</td>\n",
       "      <td>265.9</td>\n",
       "      <td>82</td>\n",
       "      <td>22.60</td>\n",
       "      <td>241.4</td>\n",
       "      <td>77</td>\n",
       "      <td>10.86</td>\n",
       "      <td>13.7</td>\n",
       "      <td>4</td>\n",
       "      <td>3.70</td>\n",
       "      <td>0</td>\n",
       "      <td>False</td>\n",
       "    </tr>\n",
       "  </tbody>\n",
       "</table>\n",
       "</div>"
      ],
      "text/plain": [
       "     State  Account length  Area code International plan Voice mail plan  \\\n",
       "2661    SC              79        415                 No              No   \n",
       "2662    AZ             192        415                 No             Yes   \n",
       "2663    WV              68        415                 No              No   \n",
       "2664    RI              28        510                 No              No   \n",
       "2665    TN              74        415                 No             Yes   \n",
       "\n",
       "      Number vmail messages  Total day minutes  Total day calls  \\\n",
       "2661                      0              134.7               98   \n",
       "2662                     36              156.2               77   \n",
       "2663                      0              231.1               57   \n",
       "2664                      0              180.8              109   \n",
       "2665                     25              234.4              113   \n",
       "\n",
       "      Total day charge  Total eve minutes  Total eve calls  Total eve charge  \\\n",
       "2661             22.90              189.7               68             16.12   \n",
       "2662             26.55              215.5              126             18.32   \n",
       "2663             39.29              153.4               55             13.04   \n",
       "2664             30.74              288.8               58             24.55   \n",
       "2665             39.85              265.9               82             22.60   \n",
       "\n",
       "      Total night minutes  Total night calls  Total night charge  \\\n",
       "2661                221.4                128                9.96   \n",
       "2662                279.1                 83               12.56   \n",
       "2663                191.3                123                8.61   \n",
       "2664                191.9                 91                8.64   \n",
       "2665                241.4                 77               10.86   \n",
       "\n",
       "      Total intl minutes  Total intl calls  Total intl charge  \\\n",
       "2661                11.8                 5               3.19   \n",
       "2662                 9.9                 6               2.67   \n",
       "2663                 9.6                 4               2.59   \n",
       "2664                14.1                 6               3.81   \n",
       "2665                13.7                 4               3.70   \n",
       "\n",
       "      Customer service calls  Churn  \n",
       "2661                       2  False  \n",
       "2662                       2  False  \n",
       "2663                       3  False  \n",
       "2664                       2  False  \n",
       "2665                       0  False  "
      ]
     },
     "execution_count": 3,
     "metadata": {},
     "output_type": "execute_result"
    }
   ],
   "source": [
    "# tail is used to show the last values of the data\n",
    "data.tail()"
   ]
  },
  {
   "cell_type": "code",
   "execution_count": 4,
   "metadata": {},
   "outputs": [
    {
     "name": "stdout",
     "output_type": "stream",
     "text": [
      "<class 'pandas.core.frame.DataFrame'>\n",
      "RangeIndex: 2666 entries, 0 to 2665\n",
      "Data columns (total 20 columns):\n",
      " #   Column                  Non-Null Count  Dtype  \n",
      "---  ------                  --------------  -----  \n",
      " 0   State                   2666 non-null   object \n",
      " 1   Account length          2666 non-null   int64  \n",
      " 2   Area code               2666 non-null   int64  \n",
      " 3   International plan      2666 non-null   object \n",
      " 4   Voice mail plan         2666 non-null   object \n",
      " 5   Number vmail messages   2666 non-null   int64  \n",
      " 6   Total day minutes       2666 non-null   float64\n",
      " 7   Total day calls         2666 non-null   int64  \n",
      " 8   Total day charge        2666 non-null   float64\n",
      " 9   Total eve minutes       2666 non-null   float64\n",
      " 10  Total eve calls         2666 non-null   int64  \n",
      " 11  Total eve charge        2666 non-null   float64\n",
      " 12  Total night minutes     2666 non-null   float64\n",
      " 13  Total night calls       2666 non-null   int64  \n",
      " 14  Total night charge      2666 non-null   float64\n",
      " 15  Total intl minutes      2666 non-null   float64\n",
      " 16  Total intl calls        2666 non-null   int64  \n",
      " 17  Total intl charge       2666 non-null   float64\n",
      " 18  Customer service calls  2666 non-null   int64  \n",
      " 19  Churn                   2666 non-null   bool   \n",
      "dtypes: bool(1), float64(8), int64(8), object(3)\n",
      "memory usage: 367.2+ KB\n"
     ]
    }
   ],
   "source": [
    "# info used for the dataframe information\n",
    "data.info()"
   ]
  },
  {
   "cell_type": "code",
   "execution_count": 5,
   "metadata": {},
   "outputs": [
    {
     "data": {
      "text/html": [
       "<div>\n",
       "<style scoped>\n",
       "    .dataframe tbody tr th:only-of-type {\n",
       "        vertical-align: middle;\n",
       "    }\n",
       "\n",
       "    .dataframe tbody tr th {\n",
       "        vertical-align: top;\n",
       "    }\n",
       "\n",
       "    .dataframe thead th {\n",
       "        text-align: right;\n",
       "    }\n",
       "</style>\n",
       "<table border=\"1\" class=\"dataframe\">\n",
       "  <thead>\n",
       "    <tr style=\"text-align: right;\">\n",
       "      <th></th>\n",
       "      <th>Account length</th>\n",
       "      <th>Area code</th>\n",
       "      <th>Number vmail messages</th>\n",
       "      <th>Total day minutes</th>\n",
       "      <th>Total day calls</th>\n",
       "      <th>Total day charge</th>\n",
       "      <th>Total eve minutes</th>\n",
       "      <th>Total eve calls</th>\n",
       "      <th>Total eve charge</th>\n",
       "      <th>Total night minutes</th>\n",
       "      <th>Total night calls</th>\n",
       "      <th>Total night charge</th>\n",
       "      <th>Total intl minutes</th>\n",
       "      <th>Total intl calls</th>\n",
       "      <th>Total intl charge</th>\n",
       "      <th>Customer service calls</th>\n",
       "    </tr>\n",
       "  </thead>\n",
       "  <tbody>\n",
       "    <tr>\n",
       "      <th>count</th>\n",
       "      <td>2666.000000</td>\n",
       "      <td>2666.000000</td>\n",
       "      <td>2666.000000</td>\n",
       "      <td>2666.00000</td>\n",
       "      <td>2666.000000</td>\n",
       "      <td>2666.000000</td>\n",
       "      <td>2666.000000</td>\n",
       "      <td>2666.000000</td>\n",
       "      <td>2666.000000</td>\n",
       "      <td>2666.000000</td>\n",
       "      <td>2666.000000</td>\n",
       "      <td>2666.000000</td>\n",
       "      <td>2666.000000</td>\n",
       "      <td>2666.000000</td>\n",
       "      <td>2666.000000</td>\n",
       "      <td>2666.000000</td>\n",
       "    </tr>\n",
       "    <tr>\n",
       "      <th>mean</th>\n",
       "      <td>100.620405</td>\n",
       "      <td>437.438860</td>\n",
       "      <td>8.021755</td>\n",
       "      <td>179.48162</td>\n",
       "      <td>100.310203</td>\n",
       "      <td>30.512404</td>\n",
       "      <td>200.386159</td>\n",
       "      <td>100.023631</td>\n",
       "      <td>17.033072</td>\n",
       "      <td>201.168942</td>\n",
       "      <td>100.106152</td>\n",
       "      <td>9.052689</td>\n",
       "      <td>10.237022</td>\n",
       "      <td>4.467367</td>\n",
       "      <td>2.764490</td>\n",
       "      <td>1.562641</td>\n",
       "    </tr>\n",
       "    <tr>\n",
       "      <th>std</th>\n",
       "      <td>39.563974</td>\n",
       "      <td>42.521018</td>\n",
       "      <td>13.612277</td>\n",
       "      <td>54.21035</td>\n",
       "      <td>19.988162</td>\n",
       "      <td>9.215733</td>\n",
       "      <td>50.951515</td>\n",
       "      <td>20.161445</td>\n",
       "      <td>4.330864</td>\n",
       "      <td>50.780323</td>\n",
       "      <td>19.418459</td>\n",
       "      <td>2.285120</td>\n",
       "      <td>2.788349</td>\n",
       "      <td>2.456195</td>\n",
       "      <td>0.752812</td>\n",
       "      <td>1.311236</td>\n",
       "    </tr>\n",
       "    <tr>\n",
       "      <th>min</th>\n",
       "      <td>1.000000</td>\n",
       "      <td>408.000000</td>\n",
       "      <td>0.000000</td>\n",
       "      <td>0.00000</td>\n",
       "      <td>0.000000</td>\n",
       "      <td>0.000000</td>\n",
       "      <td>0.000000</td>\n",
       "      <td>0.000000</td>\n",
       "      <td>0.000000</td>\n",
       "      <td>43.700000</td>\n",
       "      <td>33.000000</td>\n",
       "      <td>1.970000</td>\n",
       "      <td>0.000000</td>\n",
       "      <td>0.000000</td>\n",
       "      <td>0.000000</td>\n",
       "      <td>0.000000</td>\n",
       "    </tr>\n",
       "    <tr>\n",
       "      <th>25%</th>\n",
       "      <td>73.000000</td>\n",
       "      <td>408.000000</td>\n",
       "      <td>0.000000</td>\n",
       "      <td>143.40000</td>\n",
       "      <td>87.000000</td>\n",
       "      <td>24.380000</td>\n",
       "      <td>165.300000</td>\n",
       "      <td>87.000000</td>\n",
       "      <td>14.050000</td>\n",
       "      <td>166.925000</td>\n",
       "      <td>87.000000</td>\n",
       "      <td>7.512500</td>\n",
       "      <td>8.500000</td>\n",
       "      <td>3.000000</td>\n",
       "      <td>2.300000</td>\n",
       "      <td>1.000000</td>\n",
       "    </tr>\n",
       "    <tr>\n",
       "      <th>50%</th>\n",
       "      <td>100.000000</td>\n",
       "      <td>415.000000</td>\n",
       "      <td>0.000000</td>\n",
       "      <td>179.95000</td>\n",
       "      <td>101.000000</td>\n",
       "      <td>30.590000</td>\n",
       "      <td>200.900000</td>\n",
       "      <td>100.000000</td>\n",
       "      <td>17.080000</td>\n",
       "      <td>201.150000</td>\n",
       "      <td>100.000000</td>\n",
       "      <td>9.050000</td>\n",
       "      <td>10.200000</td>\n",
       "      <td>4.000000</td>\n",
       "      <td>2.750000</td>\n",
       "      <td>1.000000</td>\n",
       "    </tr>\n",
       "    <tr>\n",
       "      <th>75%</th>\n",
       "      <td>127.000000</td>\n",
       "      <td>510.000000</td>\n",
       "      <td>19.000000</td>\n",
       "      <td>215.90000</td>\n",
       "      <td>114.000000</td>\n",
       "      <td>36.700000</td>\n",
       "      <td>235.100000</td>\n",
       "      <td>114.000000</td>\n",
       "      <td>19.980000</td>\n",
       "      <td>236.475000</td>\n",
       "      <td>113.000000</td>\n",
       "      <td>10.640000</td>\n",
       "      <td>12.100000</td>\n",
       "      <td>6.000000</td>\n",
       "      <td>3.270000</td>\n",
       "      <td>2.000000</td>\n",
       "    </tr>\n",
       "    <tr>\n",
       "      <th>max</th>\n",
       "      <td>243.000000</td>\n",
       "      <td>510.000000</td>\n",
       "      <td>50.000000</td>\n",
       "      <td>350.80000</td>\n",
       "      <td>160.000000</td>\n",
       "      <td>59.640000</td>\n",
       "      <td>363.700000</td>\n",
       "      <td>170.000000</td>\n",
       "      <td>30.910000</td>\n",
       "      <td>395.000000</td>\n",
       "      <td>166.000000</td>\n",
       "      <td>17.770000</td>\n",
       "      <td>20.000000</td>\n",
       "      <td>20.000000</td>\n",
       "      <td>5.400000</td>\n",
       "      <td>9.000000</td>\n",
       "    </tr>\n",
       "  </tbody>\n",
       "</table>\n",
       "</div>"
      ],
      "text/plain": [
       "       Account length    Area code  Number vmail messages  Total day minutes  \\\n",
       "count     2666.000000  2666.000000            2666.000000         2666.00000   \n",
       "mean       100.620405   437.438860               8.021755          179.48162   \n",
       "std         39.563974    42.521018              13.612277           54.21035   \n",
       "min          1.000000   408.000000               0.000000            0.00000   \n",
       "25%         73.000000   408.000000               0.000000          143.40000   \n",
       "50%        100.000000   415.000000               0.000000          179.95000   \n",
       "75%        127.000000   510.000000              19.000000          215.90000   \n",
       "max        243.000000   510.000000              50.000000          350.80000   \n",
       "\n",
       "       Total day calls  Total day charge  Total eve minutes  Total eve calls  \\\n",
       "count      2666.000000       2666.000000        2666.000000      2666.000000   \n",
       "mean        100.310203         30.512404         200.386159       100.023631   \n",
       "std          19.988162          9.215733          50.951515        20.161445   \n",
       "min           0.000000          0.000000           0.000000         0.000000   \n",
       "25%          87.000000         24.380000         165.300000        87.000000   \n",
       "50%         101.000000         30.590000         200.900000       100.000000   \n",
       "75%         114.000000         36.700000         235.100000       114.000000   \n",
       "max         160.000000         59.640000         363.700000       170.000000   \n",
       "\n",
       "       Total eve charge  Total night minutes  Total night calls  \\\n",
       "count       2666.000000          2666.000000        2666.000000   \n",
       "mean          17.033072           201.168942         100.106152   \n",
       "std            4.330864            50.780323          19.418459   \n",
       "min            0.000000            43.700000          33.000000   \n",
       "25%           14.050000           166.925000          87.000000   \n",
       "50%           17.080000           201.150000         100.000000   \n",
       "75%           19.980000           236.475000         113.000000   \n",
       "max           30.910000           395.000000         166.000000   \n",
       "\n",
       "       Total night charge  Total intl minutes  Total intl calls  \\\n",
       "count         2666.000000         2666.000000       2666.000000   \n",
       "mean             9.052689           10.237022          4.467367   \n",
       "std              2.285120            2.788349          2.456195   \n",
       "min              1.970000            0.000000          0.000000   \n",
       "25%              7.512500            8.500000          3.000000   \n",
       "50%              9.050000           10.200000          4.000000   \n",
       "75%             10.640000           12.100000          6.000000   \n",
       "max             17.770000           20.000000         20.000000   \n",
       "\n",
       "       Total intl charge  Customer service calls  \n",
       "count        2666.000000             2666.000000  \n",
       "mean            2.764490                1.562641  \n",
       "std             0.752812                1.311236  \n",
       "min             0.000000                0.000000  \n",
       "25%             2.300000                1.000000  \n",
       "50%             2.750000                1.000000  \n",
       "75%             3.270000                2.000000  \n",
       "max             5.400000                9.000000  "
      ]
     },
     "execution_count": 5,
     "metadata": {},
     "output_type": "execute_result"
    }
   ],
   "source": [
    "# used to capacity wise information about the data\n",
    "data.describe()"
   ]
  },
  {
   "cell_type": "code",
   "execution_count": 6,
   "metadata": {},
   "outputs": [
    {
     "data": {
      "text/plain": [
       "(2666, 20)"
      ]
     },
     "execution_count": 6,
     "metadata": {},
     "output_type": "execute_result"
    }
   ],
   "source": [
    "# shape describe the rows and columns in the dataset\n",
    "data.shape"
   ]
  },
  {
   "cell_type": "code",
   "execution_count": 7,
   "metadata": {},
   "outputs": [
    {
     "data": {
      "text/plain": [
       "2"
      ]
     },
     "execution_count": 7,
     "metadata": {},
     "output_type": "execute_result"
    }
   ],
   "source": [
    "#ndim used for the dimension present in the data\n",
    "data.ndim"
   ]
  },
  {
   "cell_type": "code",
   "execution_count": 8,
   "metadata": {},
   "outputs": [
    {
     "data": {
      "text/plain": [
       "State                      object\n",
       "Account length              int64\n",
       "Area code                   int64\n",
       "International plan         object\n",
       "Voice mail plan            object\n",
       "Number vmail messages       int64\n",
       "Total day minutes         float64\n",
       "Total day calls             int64\n",
       "Total day charge          float64\n",
       "Total eve minutes         float64\n",
       "Total eve calls             int64\n",
       "Total eve charge          float64\n",
       "Total night minutes       float64\n",
       "Total night calls           int64\n",
       "Total night charge        float64\n",
       "Total intl minutes        float64\n",
       "Total intl calls            int64\n",
       "Total intl charge         float64\n",
       "Customer service calls      int64\n",
       "Churn                        bool\n",
       "dtype: object"
      ]
     },
     "execution_count": 8,
     "metadata": {},
     "output_type": "execute_result"
    }
   ],
   "source": [
    "# dtypes tells about the datatypes of the given columns\n",
    "data.dtypes"
   ]
  },
  {
   "cell_type": "code",
   "execution_count": 9,
   "metadata": {},
   "outputs": [
    {
     "data": {
      "text/plain": [
       "State                     0\n",
       "Account length            0\n",
       "Area code                 0\n",
       "International plan        0\n",
       "Voice mail plan           0\n",
       "Number vmail messages     0\n",
       "Total day minutes         0\n",
       "Total day calls           0\n",
       "Total day charge          0\n",
       "Total eve minutes         0\n",
       "Total eve calls           0\n",
       "Total eve charge          0\n",
       "Total night minutes       0\n",
       "Total night calls         0\n",
       "Total night charge        0\n",
       "Total intl minutes        0\n",
       "Total intl calls          0\n",
       "Total intl charge         0\n",
       "Customer service calls    0\n",
       "Churn                     0\n",
       "dtype: int64"
      ]
     },
     "execution_count": 9,
     "metadata": {},
     "output_type": "execute_result"
    }
   ],
   "source": [
    "# checking whether there is any null values present in the data for data cleaning\n",
    "data.isna().sum()# method 1 only isna() gives the bool type\n",
    "data.isnull().sum()# method 2"
   ]
  },
  {
   "cell_type": "code",
   "execution_count": 10,
   "metadata": {},
   "outputs": [
    {
     "data": {
      "text/plain": [
       "State                     2666\n",
       "Account length            2666\n",
       "Area code                 2666\n",
       "International plan        2666\n",
       "Voice mail plan           2666\n",
       "Number vmail messages     2666\n",
       "Total day minutes         2666\n",
       "Total day calls           2666\n",
       "Total day charge          2666\n",
       "Total eve minutes         2666\n",
       "Total eve calls           2666\n",
       "Total eve charge          2666\n",
       "Total night minutes       2666\n",
       "Total night calls         2666\n",
       "Total night charge        2666\n",
       "Total intl minutes        2666\n",
       "Total intl calls          2666\n",
       "Total intl charge         2666\n",
       "Customer service calls    2666\n",
       "Churn                     2666\n",
       "dtype: int64"
      ]
     },
     "execution_count": 10,
     "metadata": {},
     "output_type": "execute_result"
    }
   ],
   "source": [
    "#check whether is there is a missing value\n",
    "data.notnull().sum()# it is used to tell whether the cell is empty but it is reverse of upper 2 method\n",
    "data.notna().sum()"
   ]
  },
  {
   "cell_type": "code",
   "execution_count": 11,
   "metadata": {},
   "outputs": [
    {
     "data": {
      "text/html": [
       "<div>\n",
       "<style scoped>\n",
       "    .dataframe tbody tr th:only-of-type {\n",
       "        vertical-align: middle;\n",
       "    }\n",
       "\n",
       "    .dataframe tbody tr th {\n",
       "        vertical-align: top;\n",
       "    }\n",
       "\n",
       "    .dataframe thead th {\n",
       "        text-align: right;\n",
       "    }\n",
       "</style>\n",
       "<table border=\"1\" class=\"dataframe\">\n",
       "  <thead>\n",
       "    <tr style=\"text-align: right;\">\n",
       "      <th></th>\n",
       "      <th>State</th>\n",
       "      <th>Account length</th>\n",
       "      <th>Area code</th>\n",
       "      <th>International plan</th>\n",
       "      <th>Voice mail plan</th>\n",
       "      <th>Number vmail messages</th>\n",
       "      <th>Total day minutes</th>\n",
       "      <th>Total day calls</th>\n",
       "      <th>Total day charge</th>\n",
       "      <th>Total eve minutes</th>\n",
       "      <th>Total eve calls</th>\n",
       "      <th>Total eve charge</th>\n",
       "      <th>Total night minutes</th>\n",
       "      <th>Total night calls</th>\n",
       "      <th>Total night charge</th>\n",
       "      <th>Total intl minutes</th>\n",
       "      <th>Total intl calls</th>\n",
       "      <th>Total intl charge</th>\n",
       "      <th>Customer service calls</th>\n",
       "      <th>Churn</th>\n",
       "    </tr>\n",
       "  </thead>\n",
       "  <tbody>\n",
       "  </tbody>\n",
       "</table>\n",
       "</div>"
      ],
      "text/plain": [
       "Empty DataFrame\n",
       "Columns: [State, Account length, Area code, International plan, Voice mail plan, Number vmail messages, Total day minutes, Total day calls, Total day charge, Total eve minutes, Total eve calls, Total eve charge, Total night minutes, Total night calls, Total night charge, Total intl minutes, Total intl calls, Total intl charge, Customer service calls, Churn]\n",
       "Index: []"
      ]
     },
     "execution_count": 11,
     "metadata": {},
     "output_type": "execute_result"
    }
   ],
   "source": [
    "# tell is there any duplicate value in the data\n",
    "# in this dataframe no duplicate records are present  used only for the columns\n",
    "\n",
    "data[data.duplicated()]"
   ]
  },
  {
   "cell_type": "code",
   "execution_count": 12,
   "metadata": {},
   "outputs": [
    {
     "data": {
      "text/html": [
       "<div>\n",
       "<style scoped>\n",
       "    .dataframe tbody tr th:only-of-type {\n",
       "        vertical-align: middle;\n",
       "    }\n",
       "\n",
       "    .dataframe tbody tr th {\n",
       "        vertical-align: top;\n",
       "    }\n",
       "\n",
       "    .dataframe thead th {\n",
       "        text-align: right;\n",
       "    }\n",
       "</style>\n",
       "<table border=\"1\" class=\"dataframe\">\n",
       "  <thead>\n",
       "    <tr style=\"text-align: right;\">\n",
       "      <th></th>\n",
       "      <th>State</th>\n",
       "      <th>Account length</th>\n",
       "      <th>Area code</th>\n",
       "      <th>International plan</th>\n",
       "      <th>Voice mail plan</th>\n",
       "      <th>Number vmail messages</th>\n",
       "      <th>Total day minutes</th>\n",
       "      <th>Total day calls</th>\n",
       "      <th>Total day charge</th>\n",
       "      <th>Total eve minutes</th>\n",
       "      <th>Total eve calls</th>\n",
       "      <th>Total eve charge</th>\n",
       "      <th>Total night minutes</th>\n",
       "      <th>Total night calls</th>\n",
       "      <th>Total night charge</th>\n",
       "      <th>Total intl minutes</th>\n",
       "      <th>Total intl calls</th>\n",
       "      <th>Total intl charge</th>\n",
       "      <th>Customer service calls</th>\n",
       "      <th>Churn</th>\n",
       "    </tr>\n",
       "  </thead>\n",
       "  <tbody>\n",
       "    <tr>\n",
       "      <th>0</th>\n",
       "      <td>KS</td>\n",
       "      <td>128</td>\n",
       "      <td>415</td>\n",
       "      <td>No</td>\n",
       "      <td>Yes</td>\n",
       "      <td>25</td>\n",
       "      <td>265.1</td>\n",
       "      <td>110</td>\n",
       "      <td>45.07</td>\n",
       "      <td>197.4</td>\n",
       "      <td>99</td>\n",
       "      <td>16.78</td>\n",
       "      <td>244.7</td>\n",
       "      <td>91</td>\n",
       "      <td>11.01</td>\n",
       "      <td>10.0</td>\n",
       "      <td>3</td>\n",
       "      <td>2.70</td>\n",
       "      <td>1</td>\n",
       "      <td>False</td>\n",
       "    </tr>\n",
       "    <tr>\n",
       "      <th>1</th>\n",
       "      <td>OH</td>\n",
       "      <td>107</td>\n",
       "      <td>415</td>\n",
       "      <td>No</td>\n",
       "      <td>Yes</td>\n",
       "      <td>26</td>\n",
       "      <td>161.6</td>\n",
       "      <td>123</td>\n",
       "      <td>27.47</td>\n",
       "      <td>195.5</td>\n",
       "      <td>103</td>\n",
       "      <td>16.62</td>\n",
       "      <td>254.4</td>\n",
       "      <td>103</td>\n",
       "      <td>11.45</td>\n",
       "      <td>13.7</td>\n",
       "      <td>3</td>\n",
       "      <td>3.70</td>\n",
       "      <td>1</td>\n",
       "      <td>False</td>\n",
       "    </tr>\n",
       "    <tr>\n",
       "      <th>2</th>\n",
       "      <td>NJ</td>\n",
       "      <td>137</td>\n",
       "      <td>415</td>\n",
       "      <td>No</td>\n",
       "      <td>No</td>\n",
       "      <td>0</td>\n",
       "      <td>243.4</td>\n",
       "      <td>114</td>\n",
       "      <td>41.38</td>\n",
       "      <td>121.2</td>\n",
       "      <td>110</td>\n",
       "      <td>10.30</td>\n",
       "      <td>162.6</td>\n",
       "      <td>104</td>\n",
       "      <td>7.32</td>\n",
       "      <td>12.2</td>\n",
       "      <td>5</td>\n",
       "      <td>3.29</td>\n",
       "      <td>0</td>\n",
       "      <td>False</td>\n",
       "    </tr>\n",
       "    <tr>\n",
       "      <th>3</th>\n",
       "      <td>OH</td>\n",
       "      <td>84</td>\n",
       "      <td>408</td>\n",
       "      <td>Yes</td>\n",
       "      <td>No</td>\n",
       "      <td>0</td>\n",
       "      <td>299.4</td>\n",
       "      <td>71</td>\n",
       "      <td>50.90</td>\n",
       "      <td>61.9</td>\n",
       "      <td>88</td>\n",
       "      <td>5.26</td>\n",
       "      <td>196.9</td>\n",
       "      <td>89</td>\n",
       "      <td>8.86</td>\n",
       "      <td>6.6</td>\n",
       "      <td>7</td>\n",
       "      <td>1.78</td>\n",
       "      <td>2</td>\n",
       "      <td>False</td>\n",
       "    </tr>\n",
       "    <tr>\n",
       "      <th>4</th>\n",
       "      <td>OK</td>\n",
       "      <td>75</td>\n",
       "      <td>415</td>\n",
       "      <td>Yes</td>\n",
       "      <td>No</td>\n",
       "      <td>0</td>\n",
       "      <td>166.7</td>\n",
       "      <td>113</td>\n",
       "      <td>28.34</td>\n",
       "      <td>148.3</td>\n",
       "      <td>122</td>\n",
       "      <td>12.61</td>\n",
       "      <td>186.9</td>\n",
       "      <td>121</td>\n",
       "      <td>8.41</td>\n",
       "      <td>10.1</td>\n",
       "      <td>3</td>\n",
       "      <td>2.73</td>\n",
       "      <td>3</td>\n",
       "      <td>False</td>\n",
       "    </tr>\n",
       "    <tr>\n",
       "      <th>...</th>\n",
       "      <td>...</td>\n",
       "      <td>...</td>\n",
       "      <td>...</td>\n",
       "      <td>...</td>\n",
       "      <td>...</td>\n",
       "      <td>...</td>\n",
       "      <td>...</td>\n",
       "      <td>...</td>\n",
       "      <td>...</td>\n",
       "      <td>...</td>\n",
       "      <td>...</td>\n",
       "      <td>...</td>\n",
       "      <td>...</td>\n",
       "      <td>...</td>\n",
       "      <td>...</td>\n",
       "      <td>...</td>\n",
       "      <td>...</td>\n",
       "      <td>...</td>\n",
       "      <td>...</td>\n",
       "      <td>...</td>\n",
       "    </tr>\n",
       "    <tr>\n",
       "      <th>2661</th>\n",
       "      <td>SC</td>\n",
       "      <td>79</td>\n",
       "      <td>415</td>\n",
       "      <td>No</td>\n",
       "      <td>No</td>\n",
       "      <td>0</td>\n",
       "      <td>134.7</td>\n",
       "      <td>98</td>\n",
       "      <td>22.90</td>\n",
       "      <td>189.7</td>\n",
       "      <td>68</td>\n",
       "      <td>16.12</td>\n",
       "      <td>221.4</td>\n",
       "      <td>128</td>\n",
       "      <td>9.96</td>\n",
       "      <td>11.8</td>\n",
       "      <td>5</td>\n",
       "      <td>3.19</td>\n",
       "      <td>2</td>\n",
       "      <td>False</td>\n",
       "    </tr>\n",
       "    <tr>\n",
       "      <th>2662</th>\n",
       "      <td>AZ</td>\n",
       "      <td>192</td>\n",
       "      <td>415</td>\n",
       "      <td>No</td>\n",
       "      <td>Yes</td>\n",
       "      <td>36</td>\n",
       "      <td>156.2</td>\n",
       "      <td>77</td>\n",
       "      <td>26.55</td>\n",
       "      <td>215.5</td>\n",
       "      <td>126</td>\n",
       "      <td>18.32</td>\n",
       "      <td>279.1</td>\n",
       "      <td>83</td>\n",
       "      <td>12.56</td>\n",
       "      <td>9.9</td>\n",
       "      <td>6</td>\n",
       "      <td>2.67</td>\n",
       "      <td>2</td>\n",
       "      <td>False</td>\n",
       "    </tr>\n",
       "    <tr>\n",
       "      <th>2663</th>\n",
       "      <td>WV</td>\n",
       "      <td>68</td>\n",
       "      <td>415</td>\n",
       "      <td>No</td>\n",
       "      <td>No</td>\n",
       "      <td>0</td>\n",
       "      <td>231.1</td>\n",
       "      <td>57</td>\n",
       "      <td>39.29</td>\n",
       "      <td>153.4</td>\n",
       "      <td>55</td>\n",
       "      <td>13.04</td>\n",
       "      <td>191.3</td>\n",
       "      <td>123</td>\n",
       "      <td>8.61</td>\n",
       "      <td>9.6</td>\n",
       "      <td>4</td>\n",
       "      <td>2.59</td>\n",
       "      <td>3</td>\n",
       "      <td>False</td>\n",
       "    </tr>\n",
       "    <tr>\n",
       "      <th>2664</th>\n",
       "      <td>RI</td>\n",
       "      <td>28</td>\n",
       "      <td>510</td>\n",
       "      <td>No</td>\n",
       "      <td>No</td>\n",
       "      <td>0</td>\n",
       "      <td>180.8</td>\n",
       "      <td>109</td>\n",
       "      <td>30.74</td>\n",
       "      <td>288.8</td>\n",
       "      <td>58</td>\n",
       "      <td>24.55</td>\n",
       "      <td>191.9</td>\n",
       "      <td>91</td>\n",
       "      <td>8.64</td>\n",
       "      <td>14.1</td>\n",
       "      <td>6</td>\n",
       "      <td>3.81</td>\n",
       "      <td>2</td>\n",
       "      <td>False</td>\n",
       "    </tr>\n",
       "    <tr>\n",
       "      <th>2665</th>\n",
       "      <td>TN</td>\n",
       "      <td>74</td>\n",
       "      <td>415</td>\n",
       "      <td>No</td>\n",
       "      <td>Yes</td>\n",
       "      <td>25</td>\n",
       "      <td>234.4</td>\n",
       "      <td>113</td>\n",
       "      <td>39.85</td>\n",
       "      <td>265.9</td>\n",
       "      <td>82</td>\n",
       "      <td>22.60</td>\n",
       "      <td>241.4</td>\n",
       "      <td>77</td>\n",
       "      <td>10.86</td>\n",
       "      <td>13.7</td>\n",
       "      <td>4</td>\n",
       "      <td>3.70</td>\n",
       "      <td>0</td>\n",
       "      <td>False</td>\n",
       "    </tr>\n",
       "  </tbody>\n",
       "</table>\n",
       "<p>2666 rows × 20 columns</p>\n",
       "</div>"
      ],
      "text/plain": [
       "     State  Account length  Area code International plan Voice mail plan  \\\n",
       "0       KS             128        415                 No             Yes   \n",
       "1       OH             107        415                 No             Yes   \n",
       "2       NJ             137        415                 No              No   \n",
       "3       OH              84        408                Yes              No   \n",
       "4       OK              75        415                Yes              No   \n",
       "...    ...             ...        ...                ...             ...   \n",
       "2661    SC              79        415                 No              No   \n",
       "2662    AZ             192        415                 No             Yes   \n",
       "2663    WV              68        415                 No              No   \n",
       "2664    RI              28        510                 No              No   \n",
       "2665    TN              74        415                 No             Yes   \n",
       "\n",
       "      Number vmail messages  Total day minutes  Total day calls  \\\n",
       "0                        25              265.1              110   \n",
       "1                        26              161.6              123   \n",
       "2                         0              243.4              114   \n",
       "3                         0              299.4               71   \n",
       "4                         0              166.7              113   \n",
       "...                     ...                ...              ...   \n",
       "2661                      0              134.7               98   \n",
       "2662                     36              156.2               77   \n",
       "2663                      0              231.1               57   \n",
       "2664                      0              180.8              109   \n",
       "2665                     25              234.4              113   \n",
       "\n",
       "      Total day charge  Total eve minutes  Total eve calls  Total eve charge  \\\n",
       "0                45.07              197.4               99             16.78   \n",
       "1                27.47              195.5              103             16.62   \n",
       "2                41.38              121.2              110             10.30   \n",
       "3                50.90               61.9               88              5.26   \n",
       "4                28.34              148.3              122             12.61   \n",
       "...                ...                ...              ...               ...   \n",
       "2661             22.90              189.7               68             16.12   \n",
       "2662             26.55              215.5              126             18.32   \n",
       "2663             39.29              153.4               55             13.04   \n",
       "2664             30.74              288.8               58             24.55   \n",
       "2665             39.85              265.9               82             22.60   \n",
       "\n",
       "      Total night minutes  Total night calls  Total night charge  \\\n",
       "0                   244.7                 91               11.01   \n",
       "1                   254.4                103               11.45   \n",
       "2                   162.6                104                7.32   \n",
       "3                   196.9                 89                8.86   \n",
       "4                   186.9                121                8.41   \n",
       "...                   ...                ...                 ...   \n",
       "2661                221.4                128                9.96   \n",
       "2662                279.1                 83               12.56   \n",
       "2663                191.3                123                8.61   \n",
       "2664                191.9                 91                8.64   \n",
       "2665                241.4                 77               10.86   \n",
       "\n",
       "      Total intl minutes  Total intl calls  Total intl charge  \\\n",
       "0                   10.0                 3               2.70   \n",
       "1                   13.7                 3               3.70   \n",
       "2                   12.2                 5               3.29   \n",
       "3                    6.6                 7               1.78   \n",
       "4                   10.1                 3               2.73   \n",
       "...                  ...               ...                ...   \n",
       "2661                11.8                 5               3.19   \n",
       "2662                 9.9                 6               2.67   \n",
       "2663                 9.6                 4               2.59   \n",
       "2664                14.1                 6               3.81   \n",
       "2665                13.7                 4               3.70   \n",
       "\n",
       "      Customer service calls  Churn  \n",
       "0                          1  False  \n",
       "1                          1  False  \n",
       "2                          0  False  \n",
       "3                          2  False  \n",
       "4                          3  False  \n",
       "...                      ...    ...  \n",
       "2661                       2  False  \n",
       "2662                       2  False  \n",
       "2663                       3  False  \n",
       "2664                       2  False  \n",
       "2665                       0  False  \n",
       "\n",
       "[2666 rows x 20 columns]"
      ]
     },
     "execution_count": 12,
     "metadata": {},
     "output_type": "execute_result"
    }
   ],
   "source": [
    "# to drop all the duplicates which is present in the dataset-\n",
    "data= data.drop_duplicates()\n",
    "# check after the drop of duplicates\n",
    "data\n",
    "# there is no duplicates found in the dataframe"
   ]
  },
  {
   "cell_type": "code",
   "execution_count": 13,
   "metadata": {},
   "outputs": [
    {
     "data": {
      "text/plain": [
       "array([False,  True])"
      ]
     },
     "execution_count": 13,
     "metadata": {},
     "output_type": "execute_result"
    }
   ],
   "source": [
    "#analyzing the churn variable \n",
    "data['Churn'].unique()\n",
    "# churn only have two datatypes one is true and other is false"
   ]
  },
  {
   "cell_type": "code",
   "execution_count": 14,
   "metadata": {},
   "outputs": [
    {
     "data": {
      "text/plain": [
       "False    2278\n",
       "True      388\n",
       "Name: Churn, dtype: int64"
      ]
     },
     "execution_count": 14,
     "metadata": {},
     "output_type": "execute_result"
    }
   ],
   "source": [
    "# to counts the value of true and false in the data set\n",
    "data['Churn'].count()# it gives the total value present in the data\n",
    "churn =data['Churn'].value_counts()# it shows the all value and their total\n",
    "churn"
   ]
  },
  {
   "cell_type": "code",
   "execution_count": 15,
   "metadata": {},
   "outputs": [
    {
     "data": {
      "text/plain": [
       "False    85.446362\n",
       "True     14.553638\n",
       "Name: Churn, dtype: float64"
      ]
     },
     "execution_count": 15,
     "metadata": {},
     "output_type": "execute_result"
    }
   ],
   "source": [
    "# check the percentage of the true and false in the churn columns\n",
    "100*data['Churn'].value_counts(normalize=True)\n",
    "#multiply by hundred gives the value after the two digit"
   ]
  },
  {
   "cell_type": "code",
   "execution_count": 16,
   "metadata": {},
   "outputs": [
    {
     "data": {
      "text/plain": [
       "pandas.core.series.Series"
      ]
     },
     "execution_count": 16,
     "metadata": {},
     "output_type": "execute_result"
    }
   ],
   "source": [
    "# data type of churn inside the dataframe\n",
    "# to only check the data inside the churn is data('Churn') it will give str\n",
    "type(data['Churn'])"
   ]
  },
  {
   "cell_type": "markdown",
   "metadata": {},
   "source": [
    "# donut chart"
   ]
  },
  {
   "cell_type": "code",
   "execution_count": 17,
   "metadata": {},
   "outputs": [
    {
     "data": {
      "image/png": "[encoded data removed]",
      "text/plain": [
       "<Figure size 576x396 with 1 Axes>"
      ]
     },
     "metadata": {},
     "output_type": "display_data"
    }
   ],
   "source": [
    "# creating a donut chart for chunned and non chunned\n",
    "\\\n",
    "plt.style.use('seaborn')\n",
    "labels=['Non-churned','Churned']\n",
    "plt.pie(churn,labels=labels,explode=(0,0.2),startangle=50,shadow=True,radius=2,autopct='%1.2f%%',pctdistance=0.75\n",
    "         ,colors=['green','orange'])\n",
    "\n",
    "# circle made for the donut shape\n",
    "circle=plt.Circle((0,0),1,color='white')\n",
    "#GCF get current figure\n",
    "c =plt.gcf()\n",
    "# GCA get current axis\n",
    "c.gca().add_artist(circle)\n",
    "\n",
    "plt.title('Churned vs Non-churned Customer(DSL)',x=0.5,y=1.5,fontsize=20)\n",
    "plt.show()"
   ]
  },
  {
   "cell_type": "code",
   "execution_count": 18,
   "metadata": {},
   "outputs": [
    {
     "data": {
      "text/plain": [
       "<matplotlib.axes._subplots.AxesSubplot at 0x8e3eab0>"
      ]
     },
     "execution_count": 18,
     "metadata": {},
     "output_type": "execute_result"
    },
    {
     "data": {
      "image/png": "[encoded data removed]",
      "text/plain": [
       "<Figure size 576x396 with 1 Axes>"
      ]
     },
     "metadata": {},
     "output_type": "display_data"
    }
   ],
   "source": [
    "# count plot for chunc columns\n",
    "sns.countplot(data['Churn'])"
   ]
  },
  {
   "cell_type": "markdown",
   "metadata": {},
   "source": [
    "outcome:\n",
    "\n",
    "analyze the count plot we notice that almost 15% customer have true repsonses.Now we will analyze other columns to find out the reasons of the churn."
   ]
  },
  {
   "cell_type": "markdown",
   "metadata": {},
   "source": [
    "# Analyzing state columns"
   ]
  },
  {
   "cell_type": "code",
   "execution_count": 19,
   "metadata": {},
   "outputs": [
    {
     "data": {
      "text/html": [
       "<div>\n",
       "<style scoped>\n",
       "    .dataframe tbody tr th:only-of-type {\n",
       "        vertical-align: middle;\n",
       "    }\n",
       "\n",
       "    .dataframe tbody tr th {\n",
       "        vertical-align: top;\n",
       "    }\n",
       "\n",
       "    .dataframe thead th {\n",
       "        text-align: right;\n",
       "    }\n",
       "</style>\n",
       "<table border=\"1\" class=\"dataframe\">\n",
       "  <thead>\n",
       "    <tr style=\"text-align: right;\">\n",
       "      <th></th>\n",
       "      <th>State</th>\n",
       "      <th>Account length</th>\n",
       "      <th>Area code</th>\n",
       "      <th>International plan</th>\n",
       "      <th>Voice mail plan</th>\n",
       "      <th>Number vmail messages</th>\n",
       "      <th>Total day minutes</th>\n",
       "      <th>Total day calls</th>\n",
       "      <th>Total day charge</th>\n",
       "      <th>Total eve minutes</th>\n",
       "      <th>Total eve calls</th>\n",
       "      <th>Total eve charge</th>\n",
       "      <th>Total night minutes</th>\n",
       "      <th>Total night calls</th>\n",
       "      <th>Total night charge</th>\n",
       "      <th>Total intl minutes</th>\n",
       "      <th>Total intl calls</th>\n",
       "      <th>Total intl charge</th>\n",
       "      <th>Customer service calls</th>\n",
       "      <th>Churn</th>\n",
       "    </tr>\n",
       "  </thead>\n",
       "  <tbody>\n",
       "    <tr>\n",
       "      <th>0</th>\n",
       "      <td>KS</td>\n",
       "      <td>128</td>\n",
       "      <td>415</td>\n",
       "      <td>No</td>\n",
       "      <td>Yes</td>\n",
       "      <td>25</td>\n",
       "      <td>265.1</td>\n",
       "      <td>110</td>\n",
       "      <td>45.07</td>\n",
       "      <td>197.4</td>\n",
       "      <td>99</td>\n",
       "      <td>16.78</td>\n",
       "      <td>244.7</td>\n",
       "      <td>91</td>\n",
       "      <td>11.01</td>\n",
       "      <td>10.0</td>\n",
       "      <td>3</td>\n",
       "      <td>2.70</td>\n",
       "      <td>1</td>\n",
       "      <td>False</td>\n",
       "    </tr>\n",
       "    <tr>\n",
       "      <th>1</th>\n",
       "      <td>OH</td>\n",
       "      <td>107</td>\n",
       "      <td>415</td>\n",
       "      <td>No</td>\n",
       "      <td>Yes</td>\n",
       "      <td>26</td>\n",
       "      <td>161.6</td>\n",
       "      <td>123</td>\n",
       "      <td>27.47</td>\n",
       "      <td>195.5</td>\n",
       "      <td>103</td>\n",
       "      <td>16.62</td>\n",
       "      <td>254.4</td>\n",
       "      <td>103</td>\n",
       "      <td>11.45</td>\n",
       "      <td>13.7</td>\n",
       "      <td>3</td>\n",
       "      <td>3.70</td>\n",
       "      <td>1</td>\n",
       "      <td>False</td>\n",
       "    </tr>\n",
       "    <tr>\n",
       "      <th>2</th>\n",
       "      <td>NJ</td>\n",
       "      <td>137</td>\n",
       "      <td>415</td>\n",
       "      <td>No</td>\n",
       "      <td>No</td>\n",
       "      <td>0</td>\n",
       "      <td>243.4</td>\n",
       "      <td>114</td>\n",
       "      <td>41.38</td>\n",
       "      <td>121.2</td>\n",
       "      <td>110</td>\n",
       "      <td>10.30</td>\n",
       "      <td>162.6</td>\n",
       "      <td>104</td>\n",
       "      <td>7.32</td>\n",
       "      <td>12.2</td>\n",
       "      <td>5</td>\n",
       "      <td>3.29</td>\n",
       "      <td>0</td>\n",
       "      <td>False</td>\n",
       "    </tr>\n",
       "    <tr>\n",
       "      <th>3</th>\n",
       "      <td>OH</td>\n",
       "      <td>84</td>\n",
       "      <td>408</td>\n",
       "      <td>Yes</td>\n",
       "      <td>No</td>\n",
       "      <td>0</td>\n",
       "      <td>299.4</td>\n",
       "      <td>71</td>\n",
       "      <td>50.90</td>\n",
       "      <td>61.9</td>\n",
       "      <td>88</td>\n",
       "      <td>5.26</td>\n",
       "      <td>196.9</td>\n",
       "      <td>89</td>\n",
       "      <td>8.86</td>\n",
       "      <td>6.6</td>\n",
       "      <td>7</td>\n",
       "      <td>1.78</td>\n",
       "      <td>2</td>\n",
       "      <td>False</td>\n",
       "    </tr>\n",
       "    <tr>\n",
       "      <th>4</th>\n",
       "      <td>OK</td>\n",
       "      <td>75</td>\n",
       "      <td>415</td>\n",
       "      <td>Yes</td>\n",
       "      <td>No</td>\n",
       "      <td>0</td>\n",
       "      <td>166.7</td>\n",
       "      <td>113</td>\n",
       "      <td>28.34</td>\n",
       "      <td>148.3</td>\n",
       "      <td>122</td>\n",
       "      <td>12.61</td>\n",
       "      <td>186.9</td>\n",
       "      <td>121</td>\n",
       "      <td>8.41</td>\n",
       "      <td>10.1</td>\n",
       "      <td>3</td>\n",
       "      <td>2.73</td>\n",
       "      <td>3</td>\n",
       "      <td>False</td>\n",
       "    </tr>\n",
       "  </tbody>\n",
       "</table>\n",
       "</div>"
      ],
      "text/plain": [
       "  State  Account length  Area code International plan Voice mail plan  \\\n",
       "0    KS             128        415                 No             Yes   \n",
       "1    OH             107        415                 No             Yes   \n",
       "2    NJ             137        415                 No              No   \n",
       "3    OH              84        408                Yes              No   \n",
       "4    OK              75        415                Yes              No   \n",
       "\n",
       "   Number vmail messages  Total day minutes  Total day calls  \\\n",
       "0                     25              265.1              110   \n",
       "1                     26              161.6              123   \n",
       "2                      0              243.4              114   \n",
       "3                      0              299.4               71   \n",
       "4                      0              166.7              113   \n",
       "\n",
       "   Total day charge  Total eve minutes  Total eve calls  Total eve charge  \\\n",
       "0             45.07              197.4               99             16.78   \n",
       "1             27.47              195.5              103             16.62   \n",
       "2             41.38              121.2              110             10.30   \n",
       "3             50.90               61.9               88              5.26   \n",
       "4             28.34              148.3              122             12.61   \n",
       "\n",
       "   Total night minutes  Total night calls  Total night charge  \\\n",
       "0                244.7                 91               11.01   \n",
       "1                254.4                103               11.45   \n",
       "2                162.6                104                7.32   \n",
       "3                196.9                 89                8.86   \n",
       "4                186.9                121                8.41   \n",
       "\n",
       "   Total intl minutes  Total intl calls  Total intl charge  \\\n",
       "0                10.0                 3               2.70   \n",
       "1                13.7                 3               3.70   \n",
       "2                12.2                 5               3.29   \n",
       "3                 6.6                 7               1.78   \n",
       "4                10.1                 3               2.73   \n",
       "\n",
       "   Customer service calls  Churn  \n",
       "0                       1  False  \n",
       "1                       1  False  \n",
       "2                       0  False  \n",
       "3                       2  False  \n",
       "4                       3  False  "
      ]
     },
     "execution_count": 19,
     "metadata": {},
     "output_type": "execute_result"
    }
   ],
   "source": [
    "data.head()"
   ]
  },
  {
   "cell_type": "code",
   "execution_count": 20,
   "metadata": {},
   "outputs": [
    {
     "data": {
      "text/plain": [
       "array(['KS', 'OH', 'NJ', 'OK', 'AL', 'MA', 'MO', 'WV', 'RI', 'IA', 'MT',\n",
       "       'ID', 'VT', 'VA', 'TX', 'FL', 'CO', 'AZ', 'NE', 'WY', 'IL', 'NH',\n",
       "       'LA', 'GA', 'AK', 'MD', 'AR', 'WI', 'OR', 'DE', 'IN', 'UT', 'CA',\n",
       "       'SD', 'NC', 'WA', 'MN', 'NM', 'NV', 'DC', 'NY', 'KY', 'ME', 'MS',\n",
       "       'MI', 'SC', 'TN', 'PA', 'HI', 'ND', 'CT'], dtype=object)"
      ]
     },
     "execution_count": 20,
     "metadata": {},
     "output_type": "execute_result"
    }
   ],
   "source": [
    "data.State.unique()"
   ]
  },
  {
   "cell_type": "code",
   "execution_count": 21,
   "metadata": {},
   "outputs": [
    {
     "data": {
      "text/plain": [
       "array([88, 70, 68, 67, 66, 62, 61, 60, 59, 58, 57, 56, 55, 54, 53, 52, 51,\n",
       "       50, 49, 48, 47, 45, 44, 43, 41, 38, 36, 35, 24], dtype=int64)"
      ]
     },
     "execution_count": 21,
     "metadata": {},
     "output_type": "execute_result"
    }
   ],
   "source": [
    "data.State.value_counts().unique()"
   ]
  },
  {
   "cell_type": "code",
   "execution_count": 22,
   "metadata": {},
   "outputs": [
    {
     "data": {
      "image/png": "[encoded data removed]",
      "text/plain": [
       "<Figure size 1440x504 with 1 Axes>"
      ]
     },
     "metadata": {},
     "output_type": "display_data"
    }
   ],
   "source": [
    "# countplot for the states\n",
    "plt.style.use('seaborn')\n",
    "\n",
    "# setting the size of the figure as (20,7) \n",
    "plt.figure(figsize=(20,7)) \n",
    "sns.countplot(data['State'].sort_values(ascending=True),edgecolor='black',linewidth=1)\n",
    "plt.xticks(fontsize=13)\n",
    "plt.yticks(fontsize=13)\n",
    "plt.title('State Frequnecy',fontsize=24)\n",
    "plt.xlabel('States',fontsize=20)\n",
    "plt.ylabel('Count',fontsize=20)\n",
    "plt.tight_layout()\n",
    "plt.show()"
   ]
  },
  {
   "cell_type": "code",
   "execution_count": null,
   "metadata": {},
   "outputs": [],
   "source": [
    "# showing churn/not churn state wise\n",
    "\n",
    "plt.style.use('fivethirtyeight')\n",
    "\n",
    "plt.figure(figsize=(20,7))\n",
    "plt.xticks(fontsize=13)\n",
    "plt.yticks(fontsize=13)\n",
    "plt.xlabel('States',fontsize=20)\n",
    "plt.ylabel('Count',fontsize=20)\n",
    "sns.countplot(data.State,hue=data.Churn.sort_values(ascending=True))\n",
    "plt.tight_layout()\n",
    "plt.show()"
   ]
  },
  {
   "cell_type": "code",
   "execution_count": null,
   "metadata": {},
   "outputs": [],
   "source": [
    "data.head()"
   ]
  },
  {
   "cell_type": "code",
   "execution_count": null,
   "metadata": {},
   "outputs": [],
   "source": [
    "# groupby\n",
    "\n",
    "stc= data.groupby('State')['Churn'].mean().sort_values(ascending=False)*100\n",
    "stc.head()"
   ]
  },
  {
   "cell_type": "code",
   "execution_count": null,
   "metadata": {},
   "outputs": [],
   "source": [
    "# line chart\n",
    "\n",
    "state=data.State.unique()\n",
    "stc= data.groupby('State')['Churn'].mean()\n",
    "\n",
    "plt.style.use('seaborn')\n",
    "plt.figure(figsize=(20,7))\n",
    "#plt.rcParams['lines.linestyle']='-'\n",
    "\n",
    "\n",
    "plt.plot(state,stc,marker='*',markersize='20',linestyle='-',color='blue',linewidth=2)\n",
    "\n",
    "plt.title('State churn graph',fontsize=20,x=0.5,y=1.1)\n",
    "plt.xticks(fontsize=13)\n",
    "plt.yticks(fontsize=13)\n",
    "plt.xlabel('States',fontsize=20)\n",
    "plt.ylabel('Churn',fontsize=20)\n",
    "plt.tight_layout()\n",
    "plt.show()\n"
   ]
  },
  {
   "cell_type": "code",
   "execution_count": null,
   "metadata": {},
   "outputs": [],
   "source": [
    "# barchart\n",
    "plt.figure(figsize=(18,6))\n",
    "states=data.groupby('State')['Churn'].mean().sort_values(ascending=False)*100\n",
    "plt.bar(state,stc)\n",
    "plt.xticks(fontsize=13)\n",
    "plt.yticks(fontsize=13)\n",
    "\n",
    "plt.title('State churn values graph',fontsize=20,x=0.5,y=1.1)\n",
    "plt.xlabel('States',fontsize=20)\n",
    "plt.ylabel('Churn',fontsize=20)"
   ]
  },
  {
   "cell_type": "code",
   "execution_count": null,
   "metadata": {},
   "outputs": [],
   "source": [
    "# cross tab function is used to for single computaion in pandas library\n",
    "\n",
    "count = pd.crosstab(data.State,data.Churn,margins=True)\n",
    "# margin true used for show the sum of both values in a new columns\n",
    "#making new colume for the percentage of true with the all values\n",
    "\n",
    "count['Churn_percentage']=count[True]/count['All']*100\n",
    "count.head().sort_values(by='Churn_percentage',ascending=True)\n"
   ]
  },
  {
   "cell_type": "markdown",
   "metadata": {},
   "source": [
    "# Analyzing the area code"
   ]
  },
  {
   "cell_type": "code",
   "execution_count": null,
   "metadata": {},
   "outputs": [],
   "source": [
    "data.head()"
   ]
  },
  {
   "cell_type": "code",
   "execution_count": null,
   "metadata": {},
   "outputs": [],
   "source": [
    "data['Area code'].nunique()"
   ]
  },
  {
   "cell_type": "code",
   "execution_count": null,
   "metadata": {},
   "outputs": [],
   "source": [
    "data['Area code'].value_counts()"
   ]
  },
  {
   "cell_type": "code",
   "execution_count": null,
   "metadata": {},
   "outputs": [],
   "source": [
    "data.groupby('Area code')['Churn'].mean()"
   ]
  },
  {
   "cell_type": "code",
   "execution_count": null,
   "metadata": {},
   "outputs": [],
   "source": [
    "# CROSS TAB\n",
    "area_count=pd.crosstab(data['Area code'],data['Churn'],margins=True)\n",
    "\n",
    "area_count['Churn_percentage']=area_count[True]/area_count['All']*100\n",
    "area_count"
   ]
  },
  {
   "cell_type": "code",
   "execution_count": null,
   "metadata": {},
   "outputs": [],
   "source": [
    "# count plot for area code and churn\n",
    "\n",
    "plt.figure(figsize=(12,6))\n",
    "\n",
    "sns.countplot(data['Area code'],hue=data['Churn']);"
   ]
  },
  {
   "cell_type": "markdown",
   "metadata": {},
   "source": [
    "# Analyzing Account length"
   ]
  },
  {
   "cell_type": "code",
   "execution_count": null,
   "metadata": {},
   "outputs": [],
   "source": [
    "data.head()"
   ]
  },
  {
   "cell_type": "code",
   "execution_count": null,
   "metadata": {},
   "outputs": [],
   "source": [
    "# show total number of unique value present in columns\n",
    "data['Account length'].nunique()"
   ]
  },
  {
   "cell_type": "markdown",
   "metadata": {},
   "source": [
    "creating dataframes "
   ]
  },
  {
   "cell_type": "code",
   "execution_count": null,
   "metadata": {},
   "outputs": [],
   "source": [
    "# creating two datafames for churn columns\n",
    "# for true cases\n",
    "churn_data= data[data['Churn']==True]\n",
    "\n",
    "# for non true cases\n",
    "non_churn = data[data['Churn']==False]"
   ]
  },
  {
   "cell_type": "code",
   "execution_count": null,
   "metadata": {},
   "outputs": [],
   "source": [
    "churn_data.head(2)"
   ]
  },
  {
   "cell_type": "code",
   "execution_count": null,
   "metadata": {},
   "outputs": [],
   "source": [
    "non_churn.head(2)"
   ]
  },
  {
   "cell_type": "markdown",
   "metadata": {},
   "source": [
    "# Distribution plot"
   ]
  },
  {
   "cell_type": "code",
   "execution_count": null,
   "metadata": {},
   "outputs": [],
   "source": [
    "# creating distribution plot for Account length column\n",
    "plt.figure(figsize=(12,6))\n",
    "sns.distplot(data['Account length'],color='green')\n",
    "sns.distplot(data['Account length'],color='yellow',hist=False,label='Account length')\n",
    "\n",
    "plt.style.use('seaborn')\n",
    "\n",
    "plt.title(\"Account length Distribution\",fontsize=20)\n",
    "plt.xlabel('Account length',fontsize=20)\n",
    "plt.ylabel('Density',fontsize=20)\n",
    "plt.tight_layout()\n",
    "plt.show()\n",
    "# distribution plot shows the histogram with the line on it which represent of a variance against the density distribution"
   ]
  },
  {
   "cell_type": "code",
   "execution_count": null,
   "metadata": {},
   "outputs": [],
   "source": [
    "# distribution plot with churn and non churn\n",
    "plt.figure(figsize=(12,6))\n",
    "#bins=[10,50,100,150,200,250,300,350,400]\n",
    "sns.distplot(data['Account length'],color='red',label='Account length')\n",
    "sns.distplot(churn_data['Account length'],hist=False,color='red',label='churn')\n",
    "sns.distplot(non_churn['Account length'],hist=False,color='blue',label='non_churn ')\n",
    "\n",
    "\n",
    "plt.title(\"Account length Distribution\",fontsize=20)\n",
    "plt.xlabel('Account length',fontsize=20)\n",
    "plt.ylabel('Density',fontsize=20)\n",
    "plt.tight_layout()\n",
    "plt.show()\n"
   ]
  },
  {
   "cell_type": "markdown",
   "metadata": {},
   "source": [
    "# Analyzing international plan column"
   ]
  },
  {
   "cell_type": "code",
   "execution_count": null,
   "metadata": {},
   "outputs": [],
   "source": [
    "data.head()"
   ]
  },
  {
   "cell_type": "code",
   "execution_count": null,
   "metadata": {},
   "outputs": [],
   "source": [
    "data['International plan'].unique()"
   ]
  },
  {
   "cell_type": "code",
   "execution_count": null,
   "metadata": {},
   "outputs": [],
   "source": [
    "data['International plan'].value_counts()"
   ]
  },
  {
   "cell_type": "code",
   "execution_count": null,
   "metadata": {},
   "outputs": [],
   "source": [
    "#creatind data frame\n",
    "\n",
    "int_plan = data[(data['International plan']=='Yes')& (data['Churn']==True)]\n",
    "int_plan.head()"
   ]
  },
  {
   "cell_type": "code",
   "execution_count": null,
   "metadata": {},
   "outputs": [],
   "source": [
    "# creating second data frame for International plan and non_churn\n",
    "\n",
    "no_int_plan = data[(data['International plan']=='No')& (data['Churn']==False)]\n",
    "no_int_plan.head()"
   ]
  },
  {
   "cell_type": "code",
   "execution_count": null,
   "metadata": {},
   "outputs": [],
   "source": [
    "# there are 118 people who have international plan\n",
    "# and 2126 poople who doesn`t have international plan\n",
    "# 2666 total people present in the data\n",
    "\n",
    "\n",
    "\n",
    "# if we find the rato between two dataframe than\n",
    "118/2666*100\n",
    "# only 5.5 percent out of 100 have international plan"
   ]
  },
  {
   "cell_type": "code",
   "execution_count": null,
   "metadata": {},
   "outputs": [],
   "source": [
    "# cross tab to merge the two data into one columns\n",
    "\n",
    "int_plan_data=pd.crosstab(data['International plan'],data['Churn'],margins=True)\n",
    "#create new columns inside the int_plan_data\n",
    "\n",
    "int_plan_data['churn_percentage']=int_plan_data[True]/int_plan_data['All']*100\n",
    "int_plan_data"
   ]
  },
  {
   "cell_type": "code",
   "execution_count": null,
   "metadata": {},
   "outputs": [],
   "source": [
    "int_p = data['International plan'].value_counts()\n",
    "int_p"
   ]
  },
  {
   "cell_type": "code",
   "execution_count": null,
   "metadata": {},
   "outputs": [],
   "source": [
    "# pie chart for the international plan\n",
    "\n",
    "labels=[' international_Plan',' non_international_Plan']\n",
    "plt.pie(int_p,explode=(0,0.2),shadow=True,startangle=60,radius=1.2,autopct='%1.2f%%',wedgeprops={'edgecolor':'black'},labels=labels\n",
    "       ,colors=['green','blue'])\n",
    "circle=plt.Circle((0,0),0.6,color='white')\n",
    "cir=plt.gcf()\n",
    "plt.title('Plans distribution overwide',fontsize=15)\n",
    "cir.gca().add_artist(circle)"
   ]
  },
  {
   "cell_type": "code",
   "execution_count": null,
   "metadata": {},
   "outputs": [],
   "source": [
    "# count plot for international plan with churn\n",
    "# color paletts in countplot\n",
    "color_pla =sns.color_palette('Accent')\n",
    "\n",
    "sns.countplot(data['International plan'],hue=data['Churn'],palette=color_pla,edgecolor='black',linewidth=1)\n",
    "plt.figure(figsize=(10,5))\n",
    "plt.tight_layout()\n",
    "plt.show()"
   ]
  },
  {
   "cell_type": "code",
   "execution_count": null,
   "metadata": {},
   "outputs": [],
   "source": [
    "# scatter plot for the person total international calls vs total international minutes\n",
    "# and the size of thier talks how much they spend on their talk\n",
    "plt.figure(figsize=(12,6))\n",
    "\n",
    "plt.scatter(data['Total intl calls'],data['Total intl minutes'],\n",
    "            c=data['Total intl charge'],cmap='summer',alpha=0.75,edgecolor='black',linewidth=0.5)\n",
    "\n",
    "\n",
    "# color bar for the legend part\n",
    "cbar=plt.colorbar()\n",
    "cbar.set_label('Total international charge',x=0.4,y=0.5)\n",
    "plt.title('Usage of international plans')\n",
    "plt.xlabel('Total international calls')\n",
    "plt.ylabel('Total international minutes')\n",
    "plt.tight_layout()\n",
    "plt.show()"
   ]
  },
  {
   "cell_type": "markdown",
   "metadata": {},
   "source": [
    "# Analyzing the voice mail columns"
   ]
  },
  {
   "cell_type": "code",
   "execution_count": null,
   "metadata": {},
   "outputs": [],
   "source": [
    "data.head()"
   ]
  },
  {
   "cell_type": "code",
   "execution_count": null,
   "metadata": {},
   "outputs": [],
   "source": [
    "data['Voice mail plan'].unique()"
   ]
  },
  {
   "cell_type": "code",
   "execution_count": null,
   "metadata": {},
   "outputs": [],
   "source": [
    "data['Voice mail plan'].value_counts()"
   ]
  },
  {
   "cell_type": "code",
   "execution_count": null,
   "metadata": {},
   "outputs": [],
   "source": [
    "data['Voice mail plan'].describe()"
   ]
  },
  {
   "cell_type": "code",
   "execution_count": null,
   "metadata": {},
   "outputs": [],
   "source": [
    "# counterplot for the Voice mail plan and the churn \n",
    "plt.style.use('seaborn')\n",
    "plt.figure(figsize=(10,5))\n",
    "sns.countplot(data['Voice mail plan'],hue=data['Churn'],edgecolor='black',palette=sns.color_palette('magma_r'),linewidth=1,alpha=0.75)"
   ]
  },
  {
   "cell_type": "code",
   "execution_count": null,
   "metadata": {},
   "outputs": [],
   "source": [
    "# cross tab for Voice mail plan and churn\n",
    "\n",
    "voice_plan =pd.crosstab(data['Voice mail plan'],data['Churn'],margins=True)\n",
    "voice_plan['churn_percentage'] =voice_plan[True]/voice_plan['All']*100\n",
    "voice_plan"
   ]
  },
  {
   "cell_type": "code",
   "execution_count": null,
   "metadata": {},
   "outputs": [],
   "source": [
    "voice_plan_do =data['Voice mail plan'].value_counts()\n",
    "\n"
   ]
  },
  {
   "cell_type": "code",
   "execution_count": null,
   "metadata": {},
   "outputs": [],
   "source": [
    "# donut chart for Voice mail plan and churn\n",
    "labels=['No','Yes']\n",
    "colors=['purple','green']\n",
    "plt.pie(voice_plan_do,labels=labels,colors=colors,explode=(0,0.1),shadow=True,startangle=50,radius=1.2,wedgeprops={'edgecolor':'black'},autopct='  %1.2f%%')\n",
    "\n",
    "circle = plt.Circle((0,0),0.6,color='white')\n",
    "c=plt.gcf()\n",
    "c.gca().add_artist(circle)\n",
    "plt.title('Voice mail plan',fontsize=20)\n",
    "plt.tight_layout()\n",
    "plt.show()\n",
    "\n"
   ]
  },
  {
   "cell_type": "markdown",
   "metadata": {},
   "source": [
    "# Analyzing the Number of voice mail message\n"
   ]
  },
  {
   "cell_type": "code",
   "execution_count": null,
   "metadata": {},
   "outputs": [],
   "source": [
    "data.head(2)"
   ]
  },
  {
   "cell_type": "code",
   "execution_count": null,
   "metadata": {},
   "outputs": [],
   "source": [
    "data['Number vmail messages'].unique()"
   ]
  },
  {
   "cell_type": "code",
   "execution_count": null,
   "metadata": {},
   "outputs": [],
   "source": [
    "# dustribution plot\n",
    "plt.figure(figsize=(12,6))\n",
    "sns.distplot(data['Number vmail messages'])\n",
    "plt.tight_layout()\n",
    "plt.title('Voicemail messages',fontsize=14)\n",
    "plt.ylabel('Frequency')\n",
    "plt.show()"
   ]
  },
  {
   "cell_type": "code",
   "execution_count": null,
   "metadata": {},
   "outputs": [],
   "source": [
    "# box plot between Number vmail messages vs churn\n",
    "\n",
    "plt.figure(figsize=(8,5))\n",
    "color=['white','black']\n",
    "\n",
    "sns.boxplot(data['Churn'],data['Number vmail messages'],color='cyan',meanline=True,showmeans=True,sym='r+')\n",
    "plt.tight_layout()\n",
    "plt.title('Number of voice mail',fontsize=14)\n",
    "plt.show()"
   ]
  },
  {
   "cell_type": "markdown",
   "metadata": {},
   "source": [
    "  # Analyzing the customer service calls columns\n",
    "  "
   ]
  },
  {
   "cell_type": "code",
   "execution_count": null,
   "metadata": {},
   "outputs": [],
   "source": [
    "data.head()"
   ]
  },
  {
   "cell_type": "code",
   "execution_count": null,
   "metadata": {},
   "outputs": [],
   "source": [
    "data['Customer service calls'].unique()"
   ]
  },
  {
   "cell_type": "code",
   "execution_count": null,
   "metadata": {},
   "outputs": [],
   "source": [
    "data['Customer service calls'].value_counts()"
   ]
  },
  {
   "cell_type": "code",
   "execution_count": null,
   "metadata": {},
   "outputs": [],
   "source": [
    "#creating a new dataframe where the all data of churned customer\n",
    "churn_cust= data[data['Churn']==True]\n",
    "churn_cust"
   ]
  },
  {
   "cell_type": "code",
   "execution_count": null,
   "metadata": {},
   "outputs": [],
   "source": [
    "# to show the count/occurance of the count_values of Customer service calls columns\n",
    "c=churn_cust['Customer service calls'].value_counts()\n",
    "c"
   ]
  },
  {
   "cell_type": "code",
   "execution_count": null,
   "metadata": {},
   "outputs": [],
   "source": [
    "# cross tab \n",
    "cscalls=pd.crosstab(data['Customer service calls'],data['Churn'],margins=True)\n",
    "cscalls['Churn percentage']=cscalls[True]/cscalls['All']*100\n",
    "cscalls"
   ]
  },
  {
   "cell_type": "code",
   "execution_count": null,
   "metadata": {},
   "outputs": [],
   "source": [
    "# countplot\n",
    "\n",
    "# List of color palette to use\n",
    "rgb_values = sns.color_palette(\"Set2\", 6)\n",
    "# Map label to color palette\n",
    "\n",
    "sns.countplot(data['Customer service calls'],hue=data['Churn'],palette=rgb_values,edgecolor='black',alpha=0.75,linewidth=1)\n"
   ]
  },
  {
   "cell_type": "markdown",
   "metadata": {},
   "source": [
    "#  Analyzing the per minute charge"
   ]
  },
  {
   "cell_type": "code",
   "execution_count": null,
   "metadata": {},
   "outputs": [],
   "source": [
    "data.head(2)"
   ]
  },
  {
   "cell_type": "code",
   "execution_count": null,
   "metadata": {},
   "outputs": [],
   "source": [
    "# mean for all the total charge with their respective calling minutes\n",
    "\n",
    "# data for the total day minutes\n",
    "data_day = (data['Total day minutes']/data['Total day charge']).mean()\n",
    "# data for the total eve minutes\n",
    "data_eve = (data['Total eve minutes']/data['Total eve charge']).mean()\n",
    "# data for the total night minutes\n",
    "data_night =(data['Total night minutes']/data['Total night charge']).mean()\n",
    "# data for the total international minutes\n",
    "data_int = (data['Total intl minutes']/data['Total intl charge']).mean()"
   ]
  },
  {
   "cell_type": "code",
   "execution_count": null,
   "metadata": {},
   "outputs": [],
   "source": [
    "print(data_day)\n",
    "print(data_eve)\n",
    "print(data_night)\n",
    "print(data_int)"
   ]
  },
  {
   "cell_type": "code",
   "execution_count": null,
   "metadata": {},
   "outputs": [],
   "source": [
    "# ba plot for the perminute charges\n",
    "plt.figure(figsize=(10,6))\n",
    "# x,y are used for their respective axis\n",
    "sns.barplot(x=['day','eve','night','international'],y=[data_day,data_eve,data_night,data_int])\n",
    "plt.tight_layout()\n",
    "plt.title('Per minutes charges through-out the day',fontsize=20)\n",
    "plt.xlabel('Time period',fontsize=13)\n",
    "plt.ylabel('Charges',fontsize=13)\n",
    "plt.show()"
   ]
  }
 ],
 "metadata": {
  "kernelspec": {
   "display_name": "Python 3",
   "language": "python",
   "name": "python3"
  },
  "language_info": {
   "codemirror_mode": {
    "name": "ipython",
    "version": 3
   },
   "file_extension": ".py",
   "mimetype": "text/x-python",
   "name": "python",
   "nbconvert_exporter": "python",
   "pygments_lexer": "ipython3",
   "version": "3.7.6"
  }
 },
 "nbformat": 4,
 "nbformat_minor": 4
}
